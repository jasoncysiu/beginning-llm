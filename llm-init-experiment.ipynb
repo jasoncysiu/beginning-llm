{
 "cells": [
  {
   "cell_type": "code",
   "execution_count": 1,
   "metadata": {},
   "outputs": [],
   "source": [
    "from langchain_community.llms import Ollama"
   ]
  },
  {
   "cell_type": "code",
   "execution_count": 7,
   "metadata": {},
   "outputs": [
    {
     "data": {
      "text/plain": [
       "' In Italian, \"Ciao\" is a common informal greeting and farewell. It can be translated to English as \"Hello\", \"Goodbye\", or simply \"Hi\". So, the term \"Ciao\" itself does not have a direct translation since it functions more as an interjection than a word with a specific meaning.'"
      ]
     },
     "execution_count": 7,
     "metadata": {},
     "output_type": "execute_result"
    }
   ],
   "source": [
    "## running in http://localhost:11434/ when you hit ollama run mistral\n",
    "llm = Ollama(model=\"mistral\")\n",
    "llm.invoke(\"What is Ciao in italian?\")"
   ]
  },
  {
   "cell_type": "markdown",
   "metadata": {},
   "source": [
    "Reference:\n",
    "    https://www.youtube.com/watch?v=h_GTxRFYETY&t=1s"
   ]
  }
 ],
 "metadata": {
  "kernelspec": {
   "display_name": "Python 3",
   "language": "python",
   "name": "python3"
  },
  "language_info": {
   "codemirror_mode": {
    "name": "ipython",
    "version": 3
   },
   "file_extension": ".py",
   "mimetype": "text/x-python",
   "name": "python",
   "nbconvert_exporter": "python",
   "pygments_lexer": "ipython3",
   "version": "3.9.6"
  }
 },
 "nbformat": 4,
 "nbformat_minor": 2
}
